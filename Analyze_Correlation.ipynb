{
  "nbformat": 4,
  "nbformat_minor": 0,
  "metadata": {
    "colab": {
      "provenance": [],
      "authorship_tag": "ABX9TyMjKCM4RcTKhXYyox3bqgKG",
      "include_colab_link": true
    },
    "kernelspec": {
      "name": "python3",
      "display_name": "Python 3"
    },
    "language_info": {
      "name": "python"
    }
  },
  "cells": [
    {
      "cell_type": "markdown",
      "metadata": {
        "id": "view-in-github",
        "colab_type": "text"
      },
      "source": [
        "<a href=\"https://colab.research.google.com/github/EdwardTong899/Master_Thesis-Shuffle_AES/blob/main/Analyze_Correlation.ipynb\" target=\"_parent\"><img src=\"https://colab.research.google.com/assets/colab-badge.svg\" alt=\"Open In Colab\"/></a>"
      ]
    },
    {
      "cell_type": "code",
      "execution_count": 126,
      "metadata": {
        "id": "G1VyZThxt8y8"
      },
      "outputs": [],
      "source": [
        "import pandas as pd\n",
        "# df=pd.read_excel(\"shuffle_5000.xlsx\")\n",
        "df=pd.read_excel(\"pip_5000.xlsx\")\n",
        "\n"
      ]
    },
    {
      "cell_type": "code",
      "source": [
        "print(df[0][4095])"
      ],
      "metadata": {
        "colab": {
          "base_uri": "https://localhost:8080/"
        },
        "id": "j_DBUIWV2GiY",
        "outputId": "4c45a3b4-260e-48e5-fa34-5bfa61b5af2d"
      },
      "execution_count": 127,
      "outputs": [
        {
          "output_type": "stream",
          "name": "stdout",
          "text": [
            "0.004191728459692924\n"
          ]
        }
      ]
    },
    {
      "cell_type": "code",
      "source": [
        "df.info()"
      ],
      "metadata": {
        "colab": {
          "base_uri": "https://localhost:8080/"
        },
        "id": "MO9lUlJEQs_h",
        "outputId": "8770ab11-5496-46eb-c852-266b6ea99ae3"
      },
      "execution_count": 128,
      "outputs": [
        {
          "output_type": "stream",
          "name": "stdout",
          "text": [
            "<class 'pandas.core.frame.DataFrame'>\n",
            "RangeIndex: 4096 entries, 0 to 4095\n",
            "Columns: 901 entries, 0 to 900\n",
            "dtypes: float64(898), int64(3)\n",
            "memory usage: 28.2 MB\n"
          ]
        }
      ]
    },
    {
      "cell_type": "code",
      "source": [
        "temp = []\n",
        "for i in range (256):\n",
        "    print(i)\n",
        "    for j in range(901):\n",
        "      temp.append(df.loc[i][j])"
      ],
      "metadata": {
        "id": "sQEPVvgf2d6M"
      },
      "execution_count": null,
      "outputs": []
    },
    {
      "cell_type": "code",
      "source": [
        "df = pd.DataFrame(temp)"
      ],
      "metadata": {
        "id": "ZMv9ZVia2wsz"
      },
      "execution_count": 135,
      "outputs": []
    },
    {
      "cell_type": "code",
      "source": [
        "df.info()"
      ],
      "metadata": {
        "colab": {
          "base_uri": "https://localhost:8080/"
        },
        "id": "81RV8hkl3eLz",
        "outputId": "8d876f7c-f5f0-4336-f0bb-7c7ebdb4b1e6"
      },
      "execution_count": 131,
      "outputs": [
        {
          "output_type": "stream",
          "name": "stdout",
          "text": [
            "<class 'pandas.core.frame.DataFrame'>\n",
            "RangeIndex: 230656 entries, 0 to 230655\n",
            "Data columns (total 1 columns):\n",
            " #   Column  Non-Null Count   Dtype  \n",
            "---  ------  --------------   -----  \n",
            " 0   0       230656 non-null  float64\n",
            "dtypes: float64(1)\n",
            "memory usage: 1.8 MB\n"
          ]
        }
      ]
    },
    {
      "cell_type": "code",
      "source": [
        "import pandas as pd\n",
        "import numpy as np\n",
        "import matplotlib.pyplot as plt\n",
        "\n",
        "\n",
        "\n",
        "# 使用matplotlib繪製常態分佈圖\n",
        "plt.hist(df[0], bins=30)\n",
        "plt.title(\"Normal Distribution\")\n",
        "plt.xlabel(\"Value\")\n",
        "plt.ylabel(\"Frequency\")\n",
        "plt.show()\n"
      ],
      "metadata": {
        "colab": {
          "base_uri": "https://localhost:8080/",
          "height": 472
        },
        "id": "VA3xogW1VVhI",
        "outputId": "6cd9d743-1d98-47f1-d3bd-7ec7836056f0"
      },
      "execution_count": 132,
      "outputs": [
        {
          "output_type": "display_data",
          "data": {
            "text/plain": [
              "<Figure size 640x480 with 1 Axes>"
            ],
            "image/png": "[encoded data removed]"
          },
          "metadata": {}
        }
      ]
    },
    {
      "cell_type": "code",
      "source": [
        "from scipy.stats import shapiro\n",
        "import pandas as pd\n",
        "import numpy as np\n",
        "\n",
        "\n",
        "# 進行Shapiro-Wilk檢驗\n",
        "stat, p = shapiro(df[0])\n",
        "\n",
        "# 判斷檢驗結果是否符合常態分佈\n",
        "alpha = 0.05\n",
        "if p > alpha:\n",
        "    print(\"The data is normally distributed\")\n",
        "else:\n",
        "    print(\"The data is not normally distributed\")\n"
      ],
      "metadata": {
        "colab": {
          "base_uri": "https://localhost:8080/"
        },
        "id": "8kLJER0TzxkH",
        "outputId": "e6318170-e7e6-4137-f7f6-0557c6244415"
      },
      "execution_count": 133,
      "outputs": [
        {
          "output_type": "stream",
          "name": "stdout",
          "text": [
            "The data is not normally distributed\n"
          ]
        },
        {
          "output_type": "stream",
          "name": "stderr",
          "text": [
            "/usr/local/lib/python3.9/dist-packages/scipy/stats/_morestats.py:1816: UserWarning: p-value may not be accurate for N > 5000.\n",
            "  warnings.warn(\"p-value may not be accurate for N > 5000.\")\n"
          ]
        }
      ]
    },
    {
      "cell_type": "code",
      "source": [
        "import pandas as pd\n",
        "import numpy as np\n",
        "\n",
        "# 創建一個包含100個隨機數的資料表，並符合常態分佈\n",
        "\n",
        "\n",
        "# 計算平均值和標準差\n",
        "mean = df[0].mean()\n",
        "std = df[0].std()\n",
        "\n",
        "# 計算前三倍標準差值的範圍\n",
        "\n",
        "upper_bound = mean + (8 * std)\n",
        "\n",
        "print(len(df[0]))\n",
        "for i in range(len(df[0])):\n",
        "  if(df[0][i]>=upper_bound):\n",
        "    print(\"key guss = \"+str(i//900)+\",  time = \"+str(i%900)+\",  value: \"+str(df[0][i]))\n"
      ],
      "metadata": {
        "colab": {
          "base_uri": "https://localhost:8080/"
        },
        "id": "qy7kK0QN0yZG",
        "outputId": "f03c74a3-8057-4081-9a5b-1bfb2bbf2ea9"
      },
      "execution_count": 136,
      "outputs": [
        {
          "output_type": "stream",
          "name": "stdout",
          "text": [
            "230656\n",
            "key guss = 43,  time = 336,  value: 0.2192958427638828\n",
            "key guss = 43,  time = 337,  value: 0.2140128419654313\n",
            "key guss = 43,  time = 338,  value: 0.2063491762941029\n",
            "key guss = 43,  time = 339,  value: 0.1969628280044645\n",
            "key guss = 43,  time = 340,  value: 0.1862490925482227\n",
            "key guss = 43,  time = 341,  value: 0.1746569883039525\n",
            "key guss = 43,  time = 342,  value: 0.1626249373849642\n",
            "key guss = 43,  time = 343,  value: 0.1505336146987978\n"
          ]
        }
      ]
    },
    {
      "cell_type": "code",
      "source": [
        "top_3_scores = df.nlargest(1, 0)\n",
        "print(top_3_scores)"
      ],
      "metadata": {
        "colab": {
          "base_uri": "https://localhost:8080/"
        },
        "id": "5QfTPh0fH128",
        "outputId": "8a11b051-e6fe-4377-d434-c47fbfc607a0"
      },
      "execution_count": 142,
      "outputs": [
        {
          "output_type": "stream",
          "name": "stdout",
          "text": [
            "              0\n",
            "39036  0.219296\n"
          ]
        }
      ]
    },
    {
      "cell_type": "code",
      "source": [
        "import pandas as pd\n",
        "import numpy as np\n",
        "\n",
        "# 創建一個包含100個隨機數的資料表，並符合常態分佈\n",
        "\n",
        "\n",
        "# 計算平均值和標準差\n",
        "mean = df[0].mean()\n",
        "std = df[0].std()\n",
        "\n",
        "# 計算前三倍標準差值的範圍\n",
        "\n",
        "upper_bound = mean + (4 * std)\n",
        "\n",
        "print(len(df[0]))\n",
        "for i in range(len(df[0])):\n",
        "  if(df[0][i]>=upper_bound):\n",
        "    print(\"key guss = \"+str(i//900)+\",  time = \"+str(i%900)+\",  value: \"+str(df[0][i]))\n"
      ],
      "metadata": {
        "colab": {
          "base_uri": "https://localhost:8080/"
        },
        "id": "6k2XFS6Q5vly",
        "outputId": "38d05ba5-ec47-4896-9a2b-eba022456f7f"
      },
      "execution_count": 125,
      "outputs": [
        {
          "output_type": "stream",
          "name": "stdout",
          "text": [
            "230656\n",
            "key guss = 43,  time = 381,  value: 0.06467616125819299\n",
            "key guss = 43,  time = 558,  value: 0.08531615279802553\n",
            "key guss = 43,  time = 616,  value: 0.06669414655803169\n",
            "key guss = 43,  time = 800,  value: 0.126894069202908\n",
            "key guss = 43,  time = 802,  value: 0.1556398921137835\n",
            "key guss = 116,  time = 631,  value: 0.06539010682509049\n",
            "key guss = 143,  time = 823,  value: 0.06953185799273402\n",
            "key guss = 180,  time = 432,  value: 0.07824857518372162\n",
            "key guss = 203,  time = 248,  value: 0.06452041732778793\n"
          ]
        }
      ]
    }
  ]
}